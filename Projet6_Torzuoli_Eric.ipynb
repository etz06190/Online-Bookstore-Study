{
 "cells": [
  {
   "cell_type": "code",
   "execution_count": 1,
   "id": "56561438",
   "metadata": {},
   "outputs": [],
   "source": [
    "#importation des librairies\n",
    "import pandas as pd\n",
    "import matplotlib.pyplot as plt\n",
    "import numpy as np\n",
    "import seaborn as sns\n",
    "from scipy.stats import chi2_contingency"
   ]
  },
  {
   "cell_type": "markdown",
   "id": "7d1681a6",
   "metadata": {},
   "source": [
    "### Files download"
   ]
  },
  {
   "cell_type": "code",
   "execution_count": 2,
   "id": "65e1aa3f",
   "metadata": {},
   "outputs": [],
   "source": [
    "customers = pd.read_csv (r'C:\\Users\\erict\\Downloads\\customers.csv')\n",
    "products = pd.read_csv (r'C:\\Users\\erict\\Downloads\\products.csv')\n",
    "transactions = pd.read_csv (r'C:\\Users\\erict\\Downloads\\transactions.csv')"
   ]
  },
  {
   "cell_type": "markdown",
   "id": "2583402b",
   "metadata": {},
   "source": [
    "### Dataframes\n"
   ]
  },
  {
   "cell_type": "code",
   "execution_count": 3,
   "id": "48e6985a",
   "metadata": {},
   "outputs": [
    {
     "data": {
      "text/html": [
       "<div>\n",
       "<style scoped>\n",
       "    .dataframe tbody tr th:only-of-type {\n",
       "        vertical-align: middle;\n",
       "    }\n",
       "\n",
       "    .dataframe tbody tr th {\n",
       "        vertical-align: top;\n",
       "    }\n",
       "\n",
       "    .dataframe thead th {\n",
       "        text-align: right;\n",
       "    }\n",
       "</style>\n",
       "<table border=\"1\" class=\"dataframe\">\n",
       "  <thead>\n",
       "    <tr style=\"text-align: right;\">\n",
       "      <th></th>\n",
       "      <th>client_id</th>\n",
       "      <th>sex</th>\n",
       "      <th>birth</th>\n",
       "    </tr>\n",
       "  </thead>\n",
       "  <tbody>\n",
       "    <tr>\n",
       "      <th>0</th>\n",
       "      <td>c_4410</td>\n",
       "      <td>f</td>\n",
       "      <td>1967</td>\n",
       "    </tr>\n",
       "    <tr>\n",
       "      <th>1</th>\n",
       "      <td>c_7839</td>\n",
       "      <td>f</td>\n",
       "      <td>1975</td>\n",
       "    </tr>\n",
       "    <tr>\n",
       "      <th>2</th>\n",
       "      <td>c_1699</td>\n",
       "      <td>f</td>\n",
       "      <td>1984</td>\n",
       "    </tr>\n",
       "    <tr>\n",
       "      <th>3</th>\n",
       "      <td>c_5961</td>\n",
       "      <td>f</td>\n",
       "      <td>1962</td>\n",
       "    </tr>\n",
       "    <tr>\n",
       "      <th>4</th>\n",
       "      <td>c_5320</td>\n",
       "      <td>m</td>\n",
       "      <td>1943</td>\n",
       "    </tr>\n",
       "  </tbody>\n",
       "</table>\n",
       "</div>"
      ],
      "text/plain": [
       "  client_id sex  birth\n",
       "0    c_4410   f   1967\n",
       "1    c_7839   f   1975\n",
       "2    c_1699   f   1984\n",
       "3    c_5961   f   1962\n",
       "4    c_5320   m   1943"
      ]
     },
     "execution_count": 3,
     "metadata": {},
     "output_type": "execute_result"
    }
   ],
   "source": [
    "customers.head()"
   ]
  },
  {
   "cell_type": "code",
   "execution_count": 4,
   "id": "f2859a2e",
   "metadata": {},
   "outputs": [
    {
     "data": {
      "text/plain": [
       "(8623, 3)"
      ]
     },
     "execution_count": 4,
     "metadata": {},
     "output_type": "execute_result"
    }
   ],
   "source": [
    "customers.shape"
   ]
  },
  {
   "cell_type": "code",
   "execution_count": 5,
   "id": "815dcd8e",
   "metadata": {},
   "outputs": [
    {
     "data": {
      "text/html": [
       "<div>\n",
       "<style scoped>\n",
       "    .dataframe tbody tr th:only-of-type {\n",
       "        vertical-align: middle;\n",
       "    }\n",
       "\n",
       "    .dataframe tbody tr th {\n",
       "        vertical-align: top;\n",
       "    }\n",
       "\n",
       "    .dataframe thead th {\n",
       "        text-align: right;\n",
       "    }\n",
       "</style>\n",
       "<table border=\"1\" class=\"dataframe\">\n",
       "  <thead>\n",
       "    <tr style=\"text-align: right;\">\n",
       "      <th></th>\n",
       "      <th>id_prod</th>\n",
       "      <th>price</th>\n",
       "      <th>categ</th>\n",
       "    </tr>\n",
       "  </thead>\n",
       "  <tbody>\n",
       "    <tr>\n",
       "      <th>0</th>\n",
       "      <td>0_1421</td>\n",
       "      <td>19.99</td>\n",
       "      <td>0</td>\n",
       "    </tr>\n",
       "    <tr>\n",
       "      <th>1</th>\n",
       "      <td>0_1368</td>\n",
       "      <td>5.13</td>\n",
       "      <td>0</td>\n",
       "    </tr>\n",
       "    <tr>\n",
       "      <th>2</th>\n",
       "      <td>0_731</td>\n",
       "      <td>17.99</td>\n",
       "      <td>0</td>\n",
       "    </tr>\n",
       "    <tr>\n",
       "      <th>3</th>\n",
       "      <td>1_587</td>\n",
       "      <td>4.99</td>\n",
       "      <td>1</td>\n",
       "    </tr>\n",
       "    <tr>\n",
       "      <th>4</th>\n",
       "      <td>0_1507</td>\n",
       "      <td>3.99</td>\n",
       "      <td>0</td>\n",
       "    </tr>\n",
       "  </tbody>\n",
       "</table>\n",
       "</div>"
      ],
      "text/plain": [
       "  id_prod  price  categ\n",
       "0  0_1421  19.99      0\n",
       "1  0_1368   5.13      0\n",
       "2   0_731  17.99      0\n",
       "3   1_587   4.99      1\n",
       "4  0_1507   3.99      0"
      ]
     },
     "execution_count": 5,
     "metadata": {},
     "output_type": "execute_result"
    }
   ],
   "source": [
    "products.head()"
   ]
  },
  {
   "cell_type": "code",
   "execution_count": 6,
   "id": "e282163c",
   "metadata": {},
   "outputs": [
    {
     "data": {
      "text/plain": [
       "(3287, 3)"
      ]
     },
     "execution_count": 6,
     "metadata": {},
     "output_type": "execute_result"
    }
   ],
   "source": [
    "products.shape"
   ]
  },
  {
   "cell_type": "code",
   "execution_count": 7,
   "id": "002dcb61",
   "metadata": {},
   "outputs": [
    {
     "data": {
      "text/html": [
       "<div>\n",
       "<style scoped>\n",
       "    .dataframe tbody tr th:only-of-type {\n",
       "        vertical-align: middle;\n",
       "    }\n",
       "\n",
       "    .dataframe tbody tr th {\n",
       "        vertical-align: top;\n",
       "    }\n",
       "\n",
       "    .dataframe thead th {\n",
       "        text-align: right;\n",
       "    }\n",
       "</style>\n",
       "<table border=\"1\" class=\"dataframe\">\n",
       "  <thead>\n",
       "    <tr style=\"text-align: right;\">\n",
       "      <th></th>\n",
       "      <th>id_prod</th>\n",
       "      <th>date</th>\n",
       "      <th>session_id</th>\n",
       "      <th>client_id</th>\n",
       "    </tr>\n",
       "  </thead>\n",
       "  <tbody>\n",
       "    <tr>\n",
       "      <th>0</th>\n",
       "      <td>0_1518</td>\n",
       "      <td>2022-05-20 13:21:29.043970</td>\n",
       "      <td>s_211425</td>\n",
       "      <td>c_103</td>\n",
       "    </tr>\n",
       "    <tr>\n",
       "      <th>1</th>\n",
       "      <td>1_251</td>\n",
       "      <td>2022-02-02 07:55:19.149409</td>\n",
       "      <td>s_158752</td>\n",
       "      <td>c_8534</td>\n",
       "    </tr>\n",
       "    <tr>\n",
       "      <th>2</th>\n",
       "      <td>0_1277</td>\n",
       "      <td>2022-06-18 15:44:33.155329</td>\n",
       "      <td>s_225667</td>\n",
       "      <td>c_6714</td>\n",
       "    </tr>\n",
       "    <tr>\n",
       "      <th>3</th>\n",
       "      <td>2_209</td>\n",
       "      <td>2021-06-24 04:19:29.835891</td>\n",
       "      <td>s_52962</td>\n",
       "      <td>c_6941</td>\n",
       "    </tr>\n",
       "    <tr>\n",
       "      <th>4</th>\n",
       "      <td>0_1509</td>\n",
       "      <td>2023-01-11 08:22:08.194479</td>\n",
       "      <td>s_325227</td>\n",
       "      <td>c_4232</td>\n",
       "    </tr>\n",
       "  </tbody>\n",
       "</table>\n",
       "</div>"
      ],
      "text/plain": [
       "  id_prod                        date session_id client_id\n",
       "0  0_1518  2022-05-20 13:21:29.043970   s_211425     c_103\n",
       "1   1_251  2022-02-02 07:55:19.149409   s_158752    c_8534\n",
       "2  0_1277  2022-06-18 15:44:33.155329   s_225667    c_6714\n",
       "3   2_209  2021-06-24 04:19:29.835891    s_52962    c_6941\n",
       "4  0_1509  2023-01-11 08:22:08.194479   s_325227    c_4232"
      ]
     },
     "execution_count": 7,
     "metadata": {},
     "output_type": "execute_result"
    }
   ],
   "source": [
    "transactions.head()"
   ]
  },
  {
   "cell_type": "code",
   "execution_count": 8,
   "id": "51fe9b9e",
   "metadata": {},
   "outputs": [
    {
     "data": {
      "text/plain": [
       "(679532, 4)"
      ]
     },
     "execution_count": 8,
     "metadata": {},
     "output_type": "execute_result"
    }
   ],
   "source": [
    "transactions.shape"
   ]
  },
  {
   "cell_type": "markdown",
   "id": "e73897d3",
   "metadata": {},
   "source": [
    "## Data cleanup"
   ]
  },
  {
   "cell_type": "markdown",
   "id": "41dca237",
   "metadata": {},
   "source": [
    "### Looking for missing data "
   ]
  },
  {
   "cell_type": "code",
   "execution_count": 9,
   "id": "6824d1eb",
   "metadata": {},
   "outputs": [
    {
     "name": "stdout",
     "output_type": "stream",
     "text": [
      "client_id    0\n",
      "sex          0\n",
      "birth        0\n",
      "dtype: int64\n"
     ]
    }
   ],
   "source": [
    "# recherche de valeurs manquantes dans le datafarme customers\n",
    "print(customers.isnull().sum())"
   ]
  },
  {
   "cell_type": "code",
   "execution_count": 10,
   "id": "48a61dbf",
   "metadata": {},
   "outputs": [
    {
     "name": "stdout",
     "output_type": "stream",
     "text": [
      "id_prod    0\n",
      "price      0\n",
      "categ      0\n",
      "dtype: int64\n"
     ]
    }
   ],
   "source": [
    "# recherche de valeurs manquantes dans le datafarme products\n",
    "print(products.isnull().sum())"
   ]
  },
  {
   "cell_type": "code",
   "execution_count": 11,
   "id": "0737acf9",
   "metadata": {},
   "outputs": [
    {
     "name": "stdout",
     "output_type": "stream",
     "text": [
      "id_prod       0\n",
      "date          0\n",
      "session_id    0\n",
      "client_id     0\n",
      "dtype: int64\n"
     ]
    }
   ],
   "source": [
    "# recherche de valeurs manquantes dans le datafarme transactions\n",
    "print(transactions.isnull().sum())"
   ]
  },
  {
   "cell_type": "markdown",
   "id": "a81bb85e",
   "metadata": {},
   "source": [
    "### Primary keys tests"
   ]
  },
  {
   "cell_type": "code",
   "execution_count": 12,
   "id": "00617937",
   "metadata": {},
   "outputs": [],
   "source": [
    "def testerCle(df, colonnes):\n",
    "\n",
    "    if df.size == df.drop_duplicates(colonnes).size :\n",
    "        print(\"La clé n'est pas présente plusieurs fois dans le dataframe.\")\n",
    "        print(\"Elle peut donc être utilisée comme clé primaire.\".format(colonnes))\n",
    "    else :\n",
    "        print(\"La clé est présente plusieurs fois dans le dataframe.\")\n",
    "        print(\"Elle ne peut donc pas être utilisée comme clé primaire.\".format(colonnes))\n",
    "    \n",
    "    print(\"Le dataframe est de la forme : \" + str(df.shape) + \" (lignes, colonnes)\")"
   ]
  },
  {
   "cell_type": "code",
   "execution_count": 13,
   "id": "2d3a02b3",
   "metadata": {},
   "outputs": [
    {
     "name": "stdout",
     "output_type": "stream",
     "text": [
      "La clé n'est pas présente plusieurs fois dans le dataframe.\n",
      "Elle peut donc être utilisée comme clé primaire.\n",
      "Le dataframe est de la forme : (3287, 3) (lignes, colonnes)\n"
     ]
    }
   ],
   "source": [
    "testerCle(products, ['id_prod'])"
   ]
  },
  {
   "cell_type": "code",
   "execution_count": 14,
   "id": "292f444a",
   "metadata": {},
   "outputs": [
    {
     "name": "stdout",
     "output_type": "stream",
     "text": [
      "La clé est présente plusieurs fois dans le dataframe.\n",
      "Elle ne peut donc pas être utilisée comme clé primaire.\n",
      "Le dataframe est de la forme : (679532, 4) (lignes, colonnes)\n"
     ]
    }
   ],
   "source": [
    "testerCle(transactions,  ['date'])"
   ]
  },
  {
   "cell_type": "code",
   "execution_count": 15,
   "id": "e1824f41",
   "metadata": {},
   "outputs": [
    {
     "name": "stdout",
     "output_type": "stream",
     "text": [
      "       id_prod                             date session_id client_id\n",
      "3019       T_0  test_2021-03-01 02:30:02.237419        s_0      ct_0\n",
      "5138       T_0  test_2021-03-01 02:30:02.237425        s_0      ct_0\n",
      "9668       T_0  test_2021-03-01 02:30:02.237437        s_0      ct_1\n",
      "10728      T_0  test_2021-03-01 02:30:02.237436        s_0      ct_0\n",
      "15292      T_0  test_2021-03-01 02:30:02.237430        s_0      ct_0\n",
      "...        ...                              ...        ...       ...\n",
      "657830     T_0  test_2021-03-01 02:30:02.237417        s_0      ct_0\n",
      "662081     T_0  test_2021-03-01 02:30:02.237427        s_0      ct_1\n",
      "670680     T_0  test_2021-03-01 02:30:02.237449        s_0      ct_1\n",
      "671647     T_0  test_2021-03-01 02:30:02.237424        s_0      ct_1\n",
      "679180     T_0  test_2021-03-01 02:30:02.237425        s_0      ct_1\n",
      "\n",
      "[198 rows x 4 columns]\n"
     ]
    }
   ],
   "source": [
    "print(transactions[transactions.duplicated(subset=['date'], keep = False)])"
   ]
  },
  {
   "cell_type": "code",
   "execution_count": 16,
   "id": "e6c2b9f1",
   "metadata": {},
   "outputs": [],
   "source": [
    "transactions = transactions[transactions.session_id != 's_0']"
   ]
  },
  {
   "cell_type": "code",
   "execution_count": 17,
   "id": "04607eca",
   "metadata": {},
   "outputs": [
    {
     "name": "stdout",
     "output_type": "stream",
     "text": [
      "La clé n'est pas présente plusieurs fois dans le dataframe.\n",
      "Elle peut donc être utilisée comme clé primaire.\n",
      "Le dataframe est de la forme : (679332, 4) (lignes, colonnes)\n"
     ]
    }
   ],
   "source": [
    "testerCle(transactions,  ['date'])"
   ]
  },
  {
   "cell_type": "code",
   "execution_count": 18,
   "id": "9c76601c",
   "metadata": {},
   "outputs": [
    {
     "name": "stdout",
     "output_type": "stream",
     "text": [
      "La clé n'est pas présente plusieurs fois dans le dataframe.\n",
      "Elle peut donc être utilisée comme clé primaire.\n",
      "Le dataframe est de la forme : (8623, 3) (lignes, colonnes)\n"
     ]
    }
   ],
   "source": [
    "testerCle(customers,  ['client_id'])"
   ]
  },
  {
   "cell_type": "code",
   "execution_count": 19,
   "id": "e5e7a541",
   "metadata": {},
   "outputs": [
    {
     "data": {
      "text/html": [
       "<div>\n",
       "<style scoped>\n",
       "    .dataframe tbody tr th:only-of-type {\n",
       "        vertical-align: middle;\n",
       "    }\n",
       "\n",
       "    .dataframe tbody tr th {\n",
       "        vertical-align: top;\n",
       "    }\n",
       "\n",
       "    .dataframe thead th {\n",
       "        text-align: right;\n",
       "    }\n",
       "</style>\n",
       "<table border=\"1\" class=\"dataframe\">\n",
       "  <thead>\n",
       "    <tr style=\"text-align: right;\">\n",
       "      <th></th>\n",
       "      <th>id_prod</th>\n",
       "      <th>price</th>\n",
       "      <th>categ</th>\n",
       "      <th>date</th>\n",
       "      <th>session_id</th>\n",
       "      <th>client_id</th>\n",
       "    </tr>\n",
       "  </thead>\n",
       "  <tbody>\n",
       "    <tr>\n",
       "      <th>0</th>\n",
       "      <td>0_1421</td>\n",
       "      <td>19.99</td>\n",
       "      <td>0</td>\n",
       "      <td>2022-02-20 17:04:37.204937</td>\n",
       "      <td>s_168213</td>\n",
       "      <td>c_6389</td>\n",
       "    </tr>\n",
       "    <tr>\n",
       "      <th>1</th>\n",
       "      <td>0_1421</td>\n",
       "      <td>19.99</td>\n",
       "      <td>0</td>\n",
       "      <td>2022-11-19 03:42:20.707442</td>\n",
       "      <td>s_299590</td>\n",
       "      <td>c_8364</td>\n",
       "    </tr>\n",
       "    <tr>\n",
       "      <th>2</th>\n",
       "      <td>0_1421</td>\n",
       "      <td>19.99</td>\n",
       "      <td>0</td>\n",
       "      <td>2021-09-19 14:58:46.726179</td>\n",
       "      <td>s_92304</td>\n",
       "      <td>c_3544</td>\n",
       "    </tr>\n",
       "    <tr>\n",
       "      <th>3</th>\n",
       "      <td>0_1421</td>\n",
       "      <td>19.99</td>\n",
       "      <td>0</td>\n",
       "      <td>2023-01-11 16:04:24.367855</td>\n",
       "      <td>s_325369</td>\n",
       "      <td>c_1025</td>\n",
       "    </tr>\n",
       "    <tr>\n",
       "      <th>4</th>\n",
       "      <td>0_1421</td>\n",
       "      <td>19.99</td>\n",
       "      <td>0</td>\n",
       "      <td>2021-08-01 19:33:18.877168</td>\n",
       "      <td>s_70071</td>\n",
       "      <td>c_2298</td>\n",
       "    </tr>\n",
       "    <tr>\n",
       "      <th>...</th>\n",
       "      <td>...</td>\n",
       "      <td>...</td>\n",
       "      <td>...</td>\n",
       "      <td>...</td>\n",
       "      <td>...</td>\n",
       "      <td>...</td>\n",
       "    </tr>\n",
       "    <tr>\n",
       "      <th>679106</th>\n",
       "      <td>1_140</td>\n",
       "      <td>38.56</td>\n",
       "      <td>1</td>\n",
       "      <td>2022-06-30 11:10:45.544437</td>\n",
       "      <td>s_231391</td>\n",
       "      <td>c_974</td>\n",
       "    </tr>\n",
       "    <tr>\n",
       "      <th>679107</th>\n",
       "      <td>0_1920</td>\n",
       "      <td>25.16</td>\n",
       "      <td>0</td>\n",
       "      <td>2023-01-30 02:37:22.371278</td>\n",
       "      <td>s_334324</td>\n",
       "      <td>c_7748</td>\n",
       "    </tr>\n",
       "    <tr>\n",
       "      <th>679108</th>\n",
       "      <td>0_1920</td>\n",
       "      <td>25.16</td>\n",
       "      <td>0</td>\n",
       "      <td>2021-04-13 18:36:10.252971</td>\n",
       "      <td>s_20115</td>\n",
       "      <td>c_7088</td>\n",
       "    </tr>\n",
       "    <tr>\n",
       "      <th>679109</th>\n",
       "      <td>0_1920</td>\n",
       "      <td>25.16</td>\n",
       "      <td>0</td>\n",
       "      <td>2021-05-30 02:37:22.371278</td>\n",
       "      <td>s_41465</td>\n",
       "      <td>c_7748</td>\n",
       "    </tr>\n",
       "    <tr>\n",
       "      <th>679110</th>\n",
       "      <td>0_1920</td>\n",
       "      <td>25.16</td>\n",
       "      <td>0</td>\n",
       "      <td>2022-12-30 02:37:22.371278</td>\n",
       "      <td>s_319303</td>\n",
       "      <td>c_7748</td>\n",
       "    </tr>\n",
       "  </tbody>\n",
       "</table>\n",
       "<p>679111 rows × 6 columns</p>\n",
       "</div>"
      ],
      "text/plain": [
       "       id_prod  price  categ                        date session_id client_id\n",
       "0       0_1421  19.99      0  2022-02-20 17:04:37.204937   s_168213    c_6389\n",
       "1       0_1421  19.99      0  2022-11-19 03:42:20.707442   s_299590    c_8364\n",
       "2       0_1421  19.99      0  2021-09-19 14:58:46.726179    s_92304    c_3544\n",
       "3       0_1421  19.99      0  2023-01-11 16:04:24.367855   s_325369    c_1025\n",
       "4       0_1421  19.99      0  2021-08-01 19:33:18.877168    s_70071    c_2298\n",
       "...        ...    ...    ...                         ...        ...       ...\n",
       "679106   1_140  38.56      1  2022-06-30 11:10:45.544437   s_231391     c_974\n",
       "679107  0_1920  25.16      0  2023-01-30 02:37:22.371278   s_334324    c_7748\n",
       "679108  0_1920  25.16      0  2021-04-13 18:36:10.252971    s_20115    c_7088\n",
       "679109  0_1920  25.16      0  2021-05-30 02:37:22.371278    s_41465    c_7748\n",
       "679110  0_1920  25.16      0  2022-12-30 02:37:22.371278   s_319303    c_7748\n",
       "\n",
       "[679111 rows x 6 columns]"
      ]
     },
     "execution_count": 19,
     "metadata": {},
     "output_type": "execute_result"
    }
   ],
   "source": [
    "partial_df = pd.merge(products, transactions)\n",
    "partial_df"
   ]
  },
  {
   "cell_type": "code",
   "execution_count": 20,
   "id": "e15baa6c",
   "metadata": {},
   "outputs": [
    {
     "data": {
      "text/html": [
       "<div>\n",
       "<style scoped>\n",
       "    .dataframe tbody tr th:only-of-type {\n",
       "        vertical-align: middle;\n",
       "    }\n",
       "\n",
       "    .dataframe tbody tr th {\n",
       "        vertical-align: top;\n",
       "    }\n",
       "\n",
       "    .dataframe thead th {\n",
       "        text-align: right;\n",
       "    }\n",
       "</style>\n",
       "<table border=\"1\" class=\"dataframe\">\n",
       "  <thead>\n",
       "    <tr style=\"text-align: right;\">\n",
       "      <th></th>\n",
       "      <th>id_prod</th>\n",
       "      <th>price</th>\n",
       "      <th>categ</th>\n",
       "      <th>date</th>\n",
       "      <th>session_id</th>\n",
       "      <th>client_id</th>\n",
       "      <th>sex</th>\n",
       "      <th>birth</th>\n",
       "    </tr>\n",
       "  </thead>\n",
       "  <tbody>\n",
       "    <tr>\n",
       "      <th>0</th>\n",
       "      <td>0_1421</td>\n",
       "      <td>19.99</td>\n",
       "      <td>0</td>\n",
       "      <td>2022-02-20 17:04:37.204937</td>\n",
       "      <td>s_168213</td>\n",
       "      <td>c_6389</td>\n",
       "      <td>f</td>\n",
       "      <td>1991</td>\n",
       "    </tr>\n",
       "    <tr>\n",
       "      <th>1</th>\n",
       "      <td>0_1421</td>\n",
       "      <td>19.99</td>\n",
       "      <td>0</td>\n",
       "      <td>2022-10-20 17:04:37.204937</td>\n",
       "      <td>s_285450</td>\n",
       "      <td>c_6389</td>\n",
       "      <td>f</td>\n",
       "      <td>1991</td>\n",
       "    </tr>\n",
       "    <tr>\n",
       "      <th>2</th>\n",
       "      <td>0_2131</td>\n",
       "      <td>8.99</td>\n",
       "      <td>0</td>\n",
       "      <td>2021-10-09 21:47:06.777914</td>\n",
       "      <td>s_102458</td>\n",
       "      <td>c_6389</td>\n",
       "      <td>f</td>\n",
       "      <td>1991</td>\n",
       "    </tr>\n",
       "    <tr>\n",
       "      <th>3</th>\n",
       "      <td>0_1635</td>\n",
       "      <td>16.99</td>\n",
       "      <td>0</td>\n",
       "      <td>2021-04-28 06:08:38.261863</td>\n",
       "      <td>s_26841</td>\n",
       "      <td>c_6389</td>\n",
       "      <td>f</td>\n",
       "      <td>1991</td>\n",
       "    </tr>\n",
       "    <tr>\n",
       "      <th>4</th>\n",
       "      <td>0_166</td>\n",
       "      <td>1.83</td>\n",
       "      <td>0</td>\n",
       "      <td>2021-07-15 10:35:31.526968</td>\n",
       "      <td>s_62585</td>\n",
       "      <td>c_6389</td>\n",
       "      <td>f</td>\n",
       "      <td>1991</td>\n",
       "    </tr>\n",
       "    <tr>\n",
       "      <th>...</th>\n",
       "      <td>...</td>\n",
       "      <td>...</td>\n",
       "      <td>...</td>\n",
       "      <td>...</td>\n",
       "      <td>...</td>\n",
       "      <td>...</td>\n",
       "      <td>...</td>\n",
       "      <td>...</td>\n",
       "    </tr>\n",
       "    <tr>\n",
       "      <th>679106</th>\n",
       "      <td>2_163</td>\n",
       "      <td>68.99</td>\n",
       "      <td>2</td>\n",
       "      <td>2022-01-28 16:51:07.389515</td>\n",
       "      <td>s_156517</td>\n",
       "      <td>c_7739</td>\n",
       "      <td>m</td>\n",
       "      <td>1997</td>\n",
       "    </tr>\n",
       "    <tr>\n",
       "      <th>679107</th>\n",
       "      <td>2_101</td>\n",
       "      <td>63.99</td>\n",
       "      <td>2</td>\n",
       "      <td>2021-07-21 09:11:12.619736</td>\n",
       "      <td>s_65192</td>\n",
       "      <td>c_7089</td>\n",
       "      <td>m</td>\n",
       "      <td>2002</td>\n",
       "    </tr>\n",
       "    <tr>\n",
       "      <th>679108</th>\n",
       "      <td>2_101</td>\n",
       "      <td>63.99</td>\n",
       "      <td>2</td>\n",
       "      <td>2022-12-21 09:11:12.619736</td>\n",
       "      <td>s_315267</td>\n",
       "      <td>c_7089</td>\n",
       "      <td>m</td>\n",
       "      <td>2002</td>\n",
       "    </tr>\n",
       "    <tr>\n",
       "      <th>679109</th>\n",
       "      <td>2_101</td>\n",
       "      <td>63.99</td>\n",
       "      <td>2</td>\n",
       "      <td>2022-10-21 09:11:12.619736</td>\n",
       "      <td>s_285788</td>\n",
       "      <td>c_7089</td>\n",
       "      <td>m</td>\n",
       "      <td>2002</td>\n",
       "    </tr>\n",
       "    <tr>\n",
       "      <th>679110</th>\n",
       "      <td>2_101</td>\n",
       "      <td>63.99</td>\n",
       "      <td>2</td>\n",
       "      <td>2022-03-21 09:11:12.619736</td>\n",
       "      <td>s_182240</td>\n",
       "      <td>c_7089</td>\n",
       "      <td>m</td>\n",
       "      <td>2002</td>\n",
       "    </tr>\n",
       "  </tbody>\n",
       "</table>\n",
       "<p>679111 rows × 8 columns</p>\n",
       "</div>"
      ],
      "text/plain": [
       "       id_prod  price  categ                        date session_id client_id  \\\n",
       "0       0_1421  19.99      0  2022-02-20 17:04:37.204937   s_168213    c_6389   \n",
       "1       0_1421  19.99      0  2022-10-20 17:04:37.204937   s_285450    c_6389   \n",
       "2       0_2131   8.99      0  2021-10-09 21:47:06.777914   s_102458    c_6389   \n",
       "3       0_1635  16.99      0  2021-04-28 06:08:38.261863    s_26841    c_6389   \n",
       "4        0_166   1.83      0  2021-07-15 10:35:31.526968    s_62585    c_6389   \n",
       "...        ...    ...    ...                         ...        ...       ...   \n",
       "679106   2_163  68.99      2  2022-01-28 16:51:07.389515   s_156517    c_7739   \n",
       "679107   2_101  63.99      2  2021-07-21 09:11:12.619736    s_65192    c_7089   \n",
       "679108   2_101  63.99      2  2022-12-21 09:11:12.619736   s_315267    c_7089   \n",
       "679109   2_101  63.99      2  2022-10-21 09:11:12.619736   s_285788    c_7089   \n",
       "679110   2_101  63.99      2  2022-03-21 09:11:12.619736   s_182240    c_7089   \n",
       "\n",
       "       sex  birth  \n",
       "0        f   1991  \n",
       "1        f   1991  \n",
       "2        f   1991  \n",
       "3        f   1991  \n",
       "4        f   1991  \n",
       "...     ..    ...  \n",
       "679106   m   1997  \n",
       "679107   m   2002  \n",
       "679108   m   2002  \n",
       "679109   m   2002  \n",
       "679110   m   2002  \n",
       "\n",
       "[679111 rows x 8 columns]"
      ]
     },
     "execution_count": 20,
     "metadata": {},
     "output_type": "execute_result"
    }
   ],
   "source": [
    "profil_client = partial_df.merge(customers, on ='client_id')\n",
    "profil_client"
   ]
  },
  {
   "cell_type": "markdown",
   "id": "f31830f0",
   "metadata": {},
   "source": [
    "### Dans un premier temps, je vais avoir besoin de différents indicateurs et graphiques autour du chiffre d'affaires. Peux-tu également regarder l’évolution dans le temps et mettre en place une décomposition en moyenne mobile pour évaluer la tendance globale ?"
   ]
  },
  {
   "cell_type": "code",
   "execution_count": 21,
   "id": "aa119071",
   "metadata": {},
   "outputs": [],
   "source": [
    "# creation d'un colonne année\n",
    "profil_client['date'] = profil_client['date'].astype('str')\n",
    "profil_client['year'] = profil_client['date'].str[:4]\n",
    "profil_client['year'] = profil_client['year'].astype('int32')\n",
    "# creation d'un colonne mois\n",
    "profil_client['month']= profil_client['date'].str[5:7]\n",
    "profil_client['month']= profil_client['month'].astype('int32')\n"
   ]
  },
  {
   "cell_type": "code",
   "execution_count": 22,
   "id": "301c1d20",
   "metadata": {},
   "outputs": [
    {
     "data": {
      "text/plain": [
       "year  month\n",
       "2021  3        482440.61\n",
       "      4        476109.30\n",
       "      5        492943.47\n",
       "      6        484088.56\n",
       "      7        482835.40\n",
       "      8        482284.79\n",
       "      9        507240.68\n",
       "      10       320798.74\n",
       "      11       516167.73\n",
       "      12       525917.28\n",
       "2022  1        525338.99\n",
       "      2        535571.50\n",
       "      3        515456.53\n",
       "      4        492998.94\n",
       "      5        517132.60\n",
       "      6        496016.12\n",
       "      7        510783.12\n",
       "      8        506467.27\n",
       "      9        494114.53\n",
       "      10       507917.77\n",
       "      11       496664.94\n",
       "      12       510219.50\n",
       "2023  1        517540.55\n",
       "      2        456679.76\n",
       "Name: price, dtype: float64"
      ]
     },
     "execution_count": 22,
     "metadata": {},
     "output_type": "execute_result"
    }
   ],
   "source": [
    "chiffre_affaires = profil_client.groupby(['year','month']).sum()\n",
    "chiffre_affaires['price']"
   ]
  },
  {
   "cell_type": "code",
   "execution_count": 23,
   "id": "5dee317d",
   "metadata": {},
   "outputs": [
    {
     "name": "stdout",
     "output_type": "stream",
     "text": [
      "le chiffre d'affaires total sur la periode donnée est de 11853728.68 euros\n"
     ]
    }
   ],
   "source": [
    "resultat = chiffre_affaires.price.sum()\n",
    "print('le chiffre d\\'affaires total sur la periode donnée est de {} euros'.format(resultat))"
   ]
  },
  {
   "cell_type": "code",
   "execution_count": 24,
   "id": "c5050d4d",
   "metadata": {},
   "outputs": [
    {
     "data": {
      "text/plain": [
       "count        24.00\n",
       "mean     493905.36\n",
       "std       41208.74\n",
       "min      320798.74\n",
       "25%      483775.27\n",
       "50%      501566.10\n",
       "75%      515634.33\n",
       "max      535571.50\n",
       "Name: price, dtype: float64"
      ]
     },
     "execution_count": 24,
     "metadata": {},
     "output_type": "execute_result"
    }
   ],
   "source": [
    "chiffre_affaires.price.describe().round(2)"
   ]
  },
  {
   "cell_type": "code",
   "execution_count": 25,
   "id": "e2ab1d98",
   "metadata": {},
   "outputs": [
    {
     "data": {
      "text/plain": [
       "<AxesSubplot:xlabel='year,month'>"
      ]
     },
     "execution_count": 25,
     "metadata": {},
     "output_type": "execute_result"
    },
    {
     "data": {
      "image/png": "[encoded data removed]",
      "text/plain": [
       "<Figure size 432x288 with 1 Axes>"
      ]
     },
     "metadata": {
      "needs_background": "light"
     },
     "output_type": "display_data"
    }
   ],
   "source": [
    "chiffre_affaires['price'].plot.bar()"
   ]
  },
  {
   "cell_type": "code",
   "execution_count": 26,
   "id": "ed09d868",
   "metadata": {},
   "outputs": [
    {
     "data": {
      "text/plain": [
       "Text(0, 0.5, \"Chiffre d'affaires en euros\")"
      ]
     },
     "execution_count": 26,
     "metadata": {},
     "output_type": "execute_result"
    },
    {
     "data": {
      "image/png": "[encoded data removed]",
      "text/plain": [
       "<Figure size 864x432 with 1 Axes>"
      ]
     },
     "metadata": {
      "needs_background": "light"
     },
     "output_type": "display_data"
    }
   ],
   "source": [
    "chiffre_affaires['MMS']=chiffre_affaires['price'].rolling(3).mean()\n",
    "\n",
    "chiffre_affaires['MMS'].plot(linewidth=3, figsize=(12,6))\n",
    "\n",
    "# modify ticks size\n",
    "plt.xticks(fontsize=14)\n",
    "plt.yticks(fontsize=14)\n",
    "\n",
    "# title and labels\n",
    "plt.title('chiffre d\\'affaires sur 2 ans', fontsize=20)\n",
    "plt.xlabel('Year', fontsize=16)\n",
    "plt.ylabel('Chiffre d\\'affaires en euros', fontsize=16)"
   ]
  },
  {
   "cell_type": "markdown",
   "id": "7229947c",
   "metadata": {},
   "source": [
    "### Il serait également intéressant de faire un zoom sur les références, pour voir un peu les tops et les flops, la répartition par catégorie"
   ]
  },
  {
   "cell_type": "code",
   "execution_count": 27,
   "id": "68e9cf39",
   "metadata": {},
   "outputs": [
    {
     "data": {
      "text/plain": [
       "1_369    2252\n",
       "1_417    2189\n",
       "1_414    2180\n",
       "1_498    2128\n",
       "1_425    2096\n",
       "1_403    1960\n",
       "1_412    1951\n",
       "1_413    1945\n",
       "1_406    1939\n",
       "1_407    1935\n",
       "1_396    1921\n",
       "1_398    1917\n",
       "1_395    1875\n",
       "1_400    1839\n",
       "1_392    1825\n",
       "1_376    1809\n",
       "1_397    1799\n",
       "1_385    1798\n",
       "1_388    1792\n",
       "1_381    1781\n",
       "Name: id_prod, dtype: int64"
      ]
     },
     "execution_count": 27,
     "metadata": {},
     "output_type": "execute_result"
    }
   ],
   "source": [
    "# les 20 références produits les plus vendues\n",
    "profil_client['id_prod'].value_counts().head(20)"
   ]
  },
  {
   "cell_type": "code",
   "execution_count": 28,
   "id": "6c0970db",
   "metadata": {},
   "outputs": [
    {
     "data": {
      "text/plain": [
       "0_2257    2\n",
       "1_420     2\n",
       "0_886     1\n",
       "2_23      1\n",
       "2_81      1\n",
       "0_541     1\n",
       "0_1379    1\n",
       "0_1601    1\n",
       "0_1683    1\n",
       "0_1728    1\n",
       "0_1498    1\n",
       "0_549     1\n",
       "0_1633    1\n",
       "0_1539    1\n",
       "0_2201    1\n",
       "0_833     1\n",
       "0_807     1\n",
       "0_1284    1\n",
       "0_1151    1\n",
       "2_98      1\n",
       "Name: id_prod, dtype: int64"
      ]
     },
     "execution_count": 28,
     "metadata": {},
     "output_type": "execute_result"
    }
   ],
   "source": [
    "# les 20 références produits les moins vendues\n",
    "profil_client['id_prod'].value_counts().tail(20)"
   ]
  },
  {
   "cell_type": "code",
   "execution_count": 29,
   "id": "38773a50",
   "metadata": {},
   "outputs": [
    {
     "data": {
      "text/plain": [
       "id_prod\n",
       "2_159    94893.50\n",
       "2_135    69334.95\n",
       "2_112    65407.76\n",
       "2_102    60736.78\n",
       "2_209    56971.86\n",
       "1_395    54356.25\n",
       "1_369    54025.48\n",
       "2_110    53846.25\n",
       "2_39     53060.85\n",
       "2_166    52449.12\n",
       "1_414    51949.40\n",
       "1_383    51486.24\n",
       "2_43     49972.86\n",
       "1_498    49731.36\n",
       "1_406    48106.59\n",
       "1_366    47005.38\n",
       "1_385    46730.02\n",
       "1_431    46575.36\n",
       "2_202    46217.88\n",
       "1_379    46098.92\n",
       "Name: price, dtype: float64"
      ]
     },
     "execution_count": 29,
     "metadata": {},
     "output_type": "execute_result"
    }
   ],
   "source": [
    "# les 20 références ayant générées le plus de chiffres d'affaires\n",
    "profil_client.groupby(['id_prod'])['price'].sum().sort_values(ascending = False).head(20)"
   ]
  },
  {
   "cell_type": "code",
   "execution_count": 30,
   "id": "88597b56",
   "metadata": {},
   "outputs": [
    {
     "data": {
      "text/plain": [
       "id_prod\n",
       "0_902     3.68\n",
       "0_324     3.54\n",
       "0_1683    2.99\n",
       "0_549     2.99\n",
       "0_1379    2.99\n",
       "0_1151    2.99\n",
       "0_833     2.99\n",
       "0_1191    2.97\n",
       "0_643     2.97\n",
       "0_1759    2.97\n",
       "0_1840    2.56\n",
       "0_898     2.54\n",
       "0_1498    2.48\n",
       "0_1728    2.27\n",
       "0_541     1.99\n",
       "0_1601    1.99\n",
       "0_807     1.99\n",
       "0_1653    1.98\n",
       "0_1284    1.38\n",
       "0_1539    0.99\n",
       "Name: price, dtype: float64"
      ]
     },
     "execution_count": 30,
     "metadata": {},
     "output_type": "execute_result"
    }
   ],
   "source": [
    "# les 20 références ayant générées le moins de chiffres d'affaires\n",
    "profil_client.groupby(['id_prod'])['price'].sum().sort_values(ascending = False).tail(20)"
   ]
  },
  {
   "cell_type": "code",
   "execution_count": 31,
   "id": "1e2cb250",
   "metadata": {},
   "outputs": [
    {
     "data": {
      "text/plain": [
       "<AxesSubplot:title={'center':'répartition par catégories'}, ylabel='price'>"
      ]
     },
     "execution_count": 31,
     "metadata": {},
     "output_type": "execute_result"
    },
    {
     "data": {
      "image/png": "[encoded data removed]",
      "text/plain": [
       "<Figure size 432x288 with 1 Axes>"
      ]
     },
     "metadata": {},
     "output_type": "display_data"
    }
   ],
   "source": [
    "profil_client.groupby('categ').count().plot(kind='pie',y='price', autopct='%1.0f%%', title = 'répartition par catégories')"
   ]
  },
  {
   "cell_type": "markdown",
   "id": "183d7a55",
   "metadata": {},
   "source": [
    "### Enfin, j’aimerais avoir quelques informations sur les profils de nos clients, et également la répartition du chiffre d'affaires entre eux, via par exemple une courbe de Lorenz."
   ]
  },
  {
   "cell_type": "code",
   "execution_count": 32,
   "id": "aca8e960",
   "metadata": {},
   "outputs": [
    {
     "data": {
      "text/plain": [
       "<AxesSubplot:title={'center':'répartition par sexe'}, ylabel='birth'>"
      ]
     },
     "execution_count": 32,
     "metadata": {},
     "output_type": "execute_result"
    },
    {
     "data": {
      "image/png": "[encoded data removed]",
      "text/plain": [
       "<Figure size 432x288 with 1 Axes>"
      ]
     },
     "metadata": {},
     "output_type": "display_data"
    }
   ],
   "source": [
    "customers.groupby('sex').count().plot(kind='pie',y='birth', autopct='%1.0f%%', title = 'répartition par sexe')"
   ]
  },
  {
   "cell_type": "code",
   "execution_count": 33,
   "id": "960f89be",
   "metadata": {},
   "outputs": [
    {
     "data": {
      "text/plain": [
       "<AxesSubplot:ylabel='Frequency'>"
      ]
     },
     "execution_count": 33,
     "metadata": {},
     "output_type": "execute_result"
    },
    {
     "data": {
      "image/png": "[encoded data removed]",
      "text/plain": [
       "<Figure size 432x288 with 1 Axes>"
      ]
     },
     "metadata": {
      "needs_background": "light"
     },
     "output_type": "display_data"
    }
   ],
   "source": [
    "customers['age'] = 2021 - customers.birth\n",
    "customers['age'].plot(kind='hist')"
   ]
  },
  {
   "cell_type": "code",
   "execution_count": 34,
   "id": "07a4c85f",
   "metadata": {},
   "outputs": [
    {
     "data": {
      "text/plain": [
       "count    8623.0\n",
       "mean       43.0\n",
       "std        17.0\n",
       "min        17.0\n",
       "25%        29.0\n",
       "50%        42.0\n",
       "75%        55.0\n",
       "max        92.0\n",
       "Name: age, dtype: float64"
      ]
     },
     "execution_count": 34,
     "metadata": {},
     "output_type": "execute_result"
    }
   ],
   "source": [
    "customers['age'].describe().round()"
   ]
  },
  {
   "cell_type": "code",
   "execution_count": 35,
   "id": "eb09dac5",
   "metadata": {},
   "outputs": [
    {
     "data": {
      "text/plain": [
       "0.36100192847210094"
      ]
     },
     "execution_count": 35,
     "metadata": {},
     "output_type": "execute_result"
    }
   ],
   "source": [
    "customers['age'].skew()\n",
    "# right-skewed distribution, unimodal"
   ]
  },
  {
   "cell_type": "code",
   "execution_count": 36,
   "id": "82f09e6f",
   "metadata": {},
   "outputs": [
    {
     "data": {
      "text/plain": [
       "sex\n",
       "f    5859683.13\n",
       "m    5994045.55\n",
       "Name: price, dtype: float64"
      ]
     },
     "execution_count": 36,
     "metadata": {},
     "output_type": "execute_result"
    }
   ],
   "source": [
    "# chiffres d'affaires femmes/hommes\n",
    "profil_client.groupby('sex')['price'].sum()"
   ]
  },
  {
   "cell_type": "code",
   "execution_count": 37,
   "id": "45643a7d",
   "metadata": {},
   "outputs": [
    {
     "data": {
      "text/plain": [
       "sex\n",
       "f    338285\n",
       "m    340826\n",
       "Name: price, dtype: int64"
      ]
     },
     "execution_count": 37,
     "metadata": {},
     "output_type": "execute_result"
    }
   ],
   "source": [
    "# nombres d'achats femmes/hommes\n",
    "profil_client.groupby('sex')['price'].count()"
   ]
  },
  {
   "cell_type": "code",
   "execution_count": 38,
   "id": "456a9644",
   "metadata": {},
   "outputs": [
    {
     "data": {
      "text/plain": [
       "sex\n",
       "f    17.321735\n",
       "m    17.586820\n",
       "Name: price, dtype: float64"
      ]
     },
     "execution_count": 38,
     "metadata": {},
     "output_type": "execute_result"
    }
   ],
   "source": [
    "# panier moyen femmes/hommes\n",
    "profil_client.groupby('sex')['price'].mean()"
   ]
  },
  {
   "cell_type": "code",
   "execution_count": 39,
   "id": "8509d64e",
   "metadata": {},
   "outputs": [
    {
     "name": "stdout",
     "output_type": "stream",
     "text": [
      "0.4463865413740149\n"
     ]
    },
    {
     "data": {
      "image/png": "[encoded data removed]",
      "text/plain": [
       "<Figure size 432x288 with 1 Axes>"
      ]
     },
     "metadata": {
      "needs_background": "light"
     },
     "output_type": "display_data"
    }
   ],
   "source": [
    "# la courbe de lorenz est utilisée pour charactériser la concentration du chiffre d'affaires dans notre population de clients\n",
    "# axe des x = % cumulé du nombre de clients\n",
    "# axe des y = % cumulé du chiffre d'affaires \n",
    "\n",
    "lorenz_curve_data = profil_client.groupby('client_id').sum()\n",
    "lorenz_curve_data.sort_values(by=['price'], inplace=True)\n",
    "pc = lorenz_curve_data['price'].tolist()\n",
    "\n",
    "arr = np.array(pc)\n",
    "\n",
    "def gini(arr):\n",
    "    count = arr.size\n",
    "    coefficient = 2 / count\n",
    "    indexes = np.arange(1, count + 1)\n",
    "    weighted_sum = (indexes * arr).sum()\n",
    "    total = arr.sum()\n",
    "    constant = (count + 1) / count\n",
    "    return coefficient * weighted_sum / total - constant\n",
    "\n",
    "def lorenz(arr):\n",
    "    scaled_prefix_sum = arr.cumsum() / arr.sum()\n",
    "    return np.insert(scaled_prefix_sum, 0, 0)\n",
    "\n",
    "print(gini(arr))\n",
    "\n",
    "lorenz_curve = lorenz(arr)\n",
    "\n",
    "plt.plot(np.linspace(0.0, 1.0, lorenz_curve.size), lorenz_curve)\n",
    "plt.plot([0,1], [0,1])\n",
    "plt.show()\n"
   ]
  },
  {
   "cell_type": "markdown",
   "id": "e7e29a2e",
   "metadata": {},
   "source": [
    "### J’aimerais que tu regardes en particulier : le lien entre le genre d’un client et les catégories des livres achetés "
   ]
  },
  {
   "cell_type": "code",
   "execution_count": 40,
   "id": "1be58662",
   "metadata": {},
   "outputs": [
    {
     "data": {
      "text/html": [
       "<div>\n",
       "<style scoped>\n",
       "    .dataframe tbody tr th:only-of-type {\n",
       "        vertical-align: middle;\n",
       "    }\n",
       "\n",
       "    .dataframe tbody tr th {\n",
       "        vertical-align: top;\n",
       "    }\n",
       "\n",
       "    .dataframe thead th {\n",
       "        text-align: right;\n",
       "    }\n",
       "</style>\n",
       "<table border=\"1\" class=\"dataframe\">\n",
       "  <thead>\n",
       "    <tr style=\"text-align: right;\">\n",
       "      <th>categ</th>\n",
       "      <th>0</th>\n",
       "      <th>1</th>\n",
       "      <th>2</th>\n",
       "      <th>Total</th>\n",
       "    </tr>\n",
       "    <tr>\n",
       "      <th>sex</th>\n",
       "      <th></th>\n",
       "      <th></th>\n",
       "      <th></th>\n",
       "      <th></th>\n",
       "    </tr>\n",
       "  </thead>\n",
       "  <tbody>\n",
       "    <tr>\n",
       "      <th>f</th>\n",
       "      <td>206103</td>\n",
       "      <td>114899</td>\n",
       "      <td>17283</td>\n",
       "      <td>338285</td>\n",
       "    </tr>\n",
       "    <tr>\n",
       "      <th>m</th>\n",
       "      <td>209356</td>\n",
       "      <td>112270</td>\n",
       "      <td>19200</td>\n",
       "      <td>340826</td>\n",
       "    </tr>\n",
       "    <tr>\n",
       "      <th>Total</th>\n",
       "      <td>415459</td>\n",
       "      <td>227169</td>\n",
       "      <td>36483</td>\n",
       "      <td>679111</td>\n",
       "    </tr>\n",
       "  </tbody>\n",
       "</table>\n",
       "</div>"
      ],
      "text/plain": [
       "categ       0       1      2   Total\n",
       "sex                                 \n",
       "f      206103  114899  17283  338285\n",
       "m      209356  112270  19200  340826\n",
       "Total  415459  227169  36483  679111"
      ]
     },
     "execution_count": 40,
     "metadata": {},
     "output_type": "execute_result"
    }
   ],
   "source": [
    "#analyse bivariée entre deux variables qualitatives (tableau de contingence / chi-2)\n",
    "X = 'sex'\n",
    "Y = 'categ'\n",
    "\n",
    "contigency_df = profil_client[[X,Y]].pivot_table(index=X,columns=Y,aggfunc=len,margins=True,margins_name=\"Total\")\n",
    "contigency_df"
   ]
  },
  {
   "cell_type": "code",
   "execution_count": 41,
   "id": "1e658b0f",
   "metadata": {},
   "outputs": [
    {
     "data": {
      "text/html": [
       "<div>\n",
       "<style scoped>\n",
       "    .dataframe tbody tr th:only-of-type {\n",
       "        vertical-align: middle;\n",
       "    }\n",
       "\n",
       "    .dataframe tbody tr th {\n",
       "        vertical-align: top;\n",
       "    }\n",
       "\n",
       "    .dataframe thead th {\n",
       "        text-align: right;\n",
       "    }\n",
       "</style>\n",
       "<table border=\"1\" class=\"dataframe\">\n",
       "  <thead>\n",
       "    <tr style=\"text-align: right;\">\n",
       "      <th>categ</th>\n",
       "      <th>0</th>\n",
       "      <th>1</th>\n",
       "      <th>2</th>\n",
       "    </tr>\n",
       "    <tr>\n",
       "      <th>sex</th>\n",
       "      <th></th>\n",
       "      <th></th>\n",
       "      <th></th>\n",
       "    </tr>\n",
       "  </thead>\n",
       "  <tbody>\n",
       "    <tr>\n",
       "      <th>f</th>\n",
       "      <td>0.609258</td>\n",
       "      <td>0.339651</td>\n",
       "      <td>0.051090</td>\n",
       "    </tr>\n",
       "    <tr>\n",
       "      <th>m</th>\n",
       "      <td>0.614261</td>\n",
       "      <td>0.329406</td>\n",
       "      <td>0.056334</td>\n",
       "    </tr>\n",
       "  </tbody>\n",
       "</table>\n",
       "</div>"
      ],
      "text/plain": [
       "categ         0         1         2\n",
       "sex                                \n",
       "f      0.609258  0.339651  0.051090\n",
       "m      0.614261  0.329406  0.056334"
      ]
     },
     "execution_count": 41,
     "metadata": {},
     "output_type": "execute_result"
    }
   ],
   "source": [
    "contigency_pct = pd.crosstab(profil_client['sex'], profil_client['categ'], normalize='index')\n",
    "contigency_pct"
   ]
  },
  {
   "cell_type": "code",
   "execution_count": 42,
   "id": "1f9fcf33",
   "metadata": {},
   "outputs": [
    {
     "name": "stdout",
     "output_type": "stream",
     "text": [
      "3.144522803251581e-29\n"
     ]
    }
   ],
   "source": [
    "# Chi-square test of independence \n",
    "c, p, dof, expected = chi2_contingency(contigency_df) \n",
    "# p-value\n",
    "print(p)"
   ]
  },
  {
   "cell_type": "code",
   "execution_count": 43,
   "id": "19be2d93",
   "metadata": {},
   "outputs": [],
   "source": [
    "#la p-value sous permet de rejeter l'hypothèse null avec un niveau de confidence de 99%\n",
    "#L'hypothèse null était que le sexe et la gatégorie/produit sont independant"
   ]
  },
  {
   "cell_type": "markdown",
   "id": "a1bde35a",
   "metadata": {},
   "source": [
    "### le lien entre l’âge des clients et le montant total des achats"
   ]
  },
  {
   "cell_type": "code",
   "execution_count": 44,
   "id": "e60a909d",
   "metadata": {},
   "outputs": [
    {
     "data": {
      "text/plain": [
       "<AxesSubplot:xlabel='age', ylabel='price'>"
      ]
     },
     "execution_count": 44,
     "metadata": {},
     "output_type": "execute_result"
    },
    {
     "data": {
      "image/png": "[encoded data removed]",
      "text/plain": [
       "<Figure size 432x288 with 1 Axes>"
      ]
     },
     "metadata": {
      "needs_background": "light"
     },
     "output_type": "display_data"
    }
   ],
   "source": [
    "#analyse bivariée entre deux variables quantitatives (scatter plot + régression lineaire)\n",
    "profil_client['age'] = 2021 - profil_client.birth\n",
    "question_un = profil_client.groupby(['age']).sum()\n",
    "question_un['age'] = question_un.index\n",
    "sns.regplot(x= 'age', y= 'price', data = question_un  )"
   ]
  },
  {
   "cell_type": "code",
   "execution_count": 45,
   "id": "ca7132e9",
   "metadata": {},
   "outputs": [
    {
     "data": {
      "text/html": [
       "<div>\n",
       "<style scoped>\n",
       "    .dataframe tbody tr th:only-of-type {\n",
       "        vertical-align: middle;\n",
       "    }\n",
       "\n",
       "    .dataframe tbody tr th {\n",
       "        vertical-align: top;\n",
       "    }\n",
       "\n",
       "    .dataframe thead th {\n",
       "        text-align: right;\n",
       "    }\n",
       "</style>\n",
       "<table border=\"1\" class=\"dataframe\">\n",
       "  <thead>\n",
       "    <tr style=\"text-align: right;\">\n",
       "      <th></th>\n",
       "      <th>age</th>\n",
       "      <th>price</th>\n",
       "    </tr>\n",
       "  </thead>\n",
       "  <tbody>\n",
       "    <tr>\n",
       "      <th>age</th>\n",
       "      <td>1.000000</td>\n",
       "      <td>-0.778881</td>\n",
       "    </tr>\n",
       "    <tr>\n",
       "      <th>price</th>\n",
       "      <td>-0.778881</td>\n",
       "      <td>1.000000</td>\n",
       "    </tr>\n",
       "  </tbody>\n",
       "</table>\n",
       "</div>"
      ],
      "text/plain": [
       "            age     price\n",
       "age    1.000000 -0.778881\n",
       "price -0.778881  1.000000"
      ]
     },
     "execution_count": 45,
     "metadata": {},
     "output_type": "execute_result"
    }
   ],
   "source": [
    "#coefficient de correlation linéaire\n",
    "question_un[['age','price']].corr()"
   ]
  },
  {
   "cell_type": "markdown",
   "id": "21ce110f",
   "metadata": {},
   "source": [
    "###  la fréquence d’achat"
   ]
  },
  {
   "cell_type": "code",
   "execution_count": 46,
   "id": "37de2c65",
   "metadata": {},
   "outputs": [
    {
     "data": {
      "text/plain": [
       "<AxesSubplot:xlabel='age', ylabel='price'>"
      ]
     },
     "execution_count": 46,
     "metadata": {},
     "output_type": "execute_result"
    },
    {
     "data": {
      "image/png": "[encoded data removed]",
      "text/plain": [
       "<Figure size 432x288 with 1 Axes>"
      ]
     },
     "metadata": {
      "needs_background": "light"
     },
     "output_type": "display_data"
    }
   ],
   "source": [
    "#analyse bivariée entre deux variables quantitatives (scatter plot + régression lineaire)\n",
    "question_deux = profil_client.groupby(['age']).count()\n",
    "question_deux['age'] = question_deux.index\n",
    "sns.regplot(x= 'age', y= 'price', data = question_deux )"
   ]
  },
  {
   "cell_type": "code",
   "execution_count": 47,
   "id": "e0eb6660",
   "metadata": {},
   "outputs": [
    {
     "data": {
      "text/html": [
       "<div>\n",
       "<style scoped>\n",
       "    .dataframe tbody tr th:only-of-type {\n",
       "        vertical-align: middle;\n",
       "    }\n",
       "\n",
       "    .dataframe tbody tr th {\n",
       "        vertical-align: top;\n",
       "    }\n",
       "\n",
       "    .dataframe thead th {\n",
       "        text-align: right;\n",
       "    }\n",
       "</style>\n",
       "<table border=\"1\" class=\"dataframe\">\n",
       "  <thead>\n",
       "    <tr style=\"text-align: right;\">\n",
       "      <th></th>\n",
       "      <th>age</th>\n",
       "      <th>price</th>\n",
       "    </tr>\n",
       "  </thead>\n",
       "  <tbody>\n",
       "    <tr>\n",
       "      <th>age</th>\n",
       "      <td>1.000000</td>\n",
       "      <td>-0.533734</td>\n",
       "    </tr>\n",
       "    <tr>\n",
       "      <th>price</th>\n",
       "      <td>-0.533734</td>\n",
       "      <td>1.000000</td>\n",
       "    </tr>\n",
       "  </tbody>\n",
       "</table>\n",
       "</div>"
      ],
      "text/plain": [
       "            age     price\n",
       "age    1.000000 -0.533734\n",
       "price -0.533734  1.000000"
      ]
     },
     "execution_count": 47,
     "metadata": {},
     "output_type": "execute_result"
    }
   ],
   "source": [
    "#coefficient de correlation linéaire\n",
    "question_deux[['age','price']].corr()"
   ]
  },
  {
   "cell_type": "markdown",
   "id": "3963f804",
   "metadata": {},
   "source": [
    "### la taille du panier moyen "
   ]
  },
  {
   "cell_type": "code",
   "execution_count": 48,
   "id": "ba2bfe9b",
   "metadata": {},
   "outputs": [
    {
     "data": {
      "text/plain": [
       "<AxesSubplot:xlabel='age', ylabel='price'>"
      ]
     },
     "execution_count": 48,
     "metadata": {},
     "output_type": "execute_result"
    },
    {
     "data": {
      "image/png": "[encoded data removed]",
      "text/plain": [
       "<Figure size 432x288 with 1 Axes>"
      ]
     },
     "metadata": {
      "needs_background": "light"
     },
     "output_type": "display_data"
    }
   ],
   "source": [
    "#analyse bivariée entre deux variables quantitatives (scatter plot + régression lineaire)\n",
    "question_trois = profil_client.groupby(['age']).mean()\n",
    "question_trois['age'] = question_trois.index\n",
    "sns.regplot(x= 'age', y= 'price', data = question_trois )"
   ]
  },
  {
   "cell_type": "markdown",
   "id": "2e99f25c",
   "metadata": {},
   "source": [
    "### les catégories des livres achetés"
   ]
  },
  {
   "cell_type": "code",
   "execution_count": 49,
   "id": "58782ad3",
   "metadata": {},
   "outputs": [
    {
     "data": {
      "text/plain": [
       "<AxesSubplot:xlabel='categ', ylabel='age'>"
      ]
     },
     "execution_count": 49,
     "metadata": {},
     "output_type": "execute_result"
    },
    {
     "data": {
      "image/png": "[encoded data removed]",
      "text/plain": [
       "<Figure size 432x288 with 1 Axes>"
      ]
     },
     "metadata": {
      "needs_background": "light"
     },
     "output_type": "display_data"
    }
   ],
   "source": [
    "#analyse bivariée entre une variable qualitative et une variable quantitative (boxplot + Anova)\n",
    "sns.boxplot(x='categ', y='age', data= profil_client)"
   ]
  },
  {
   "cell_type": "code",
   "execution_count": 50,
   "id": "f116ed2d",
   "metadata": {},
   "outputs": [
    {
     "data": {
      "text/plain": [
       "0.11903391947231187"
      ]
     },
     "execution_count": 50,
     "metadata": {},
     "output_type": "execute_result"
    }
   ],
   "source": [
    "#L'ANOVA est une modélisation qui essaie d'expliquer les variations de la variable quantitative en fonction des modalités de la variable qualitative.\n",
    "#Elle permet de calculer le rapport de corrélation, noté η2 utile pour évaluer numériquement la corrélation\n",
    "X = \"categ\" # qualitative\n",
    "Y = \"age\" # quantitative\n",
    "\n",
    "def eta_squared(x,y):\n",
    "    moyenne_y = y.mean()\n",
    "    classes = []\n",
    "    for classe in x.unique():\n",
    "        yi_classe = y[x==classe]\n",
    "        classes.append({'ni': len(yi_classe),\n",
    "                        'moyenne_classe': yi_classe.mean()})\n",
    "    SCT = sum([(yj-moyenne_y)**2 for yj in y])\n",
    "    SCE = sum([c['ni']*(c['moyenne_classe']-moyenne_y)**2 for c in classes])\n",
    "    return SCE/SCT\n",
    "    \n",
    "eta_squared(profil_client[X],profil_client[Y])"
   ]
  }
 ],
 "metadata": {
  "kernelspec": {
   "display_name": "Python 3 (ipykernel)",
   "language": "python",
   "name": "python3"
  },
  "language_info": {
   "codemirror_mode": {
    "name": "ipython",
    "version": 3
   },
   "file_extension": ".py",
   "mimetype": "text/x-python",
   "name": "python",
   "nbconvert_exporter": "python",
   "pygments_lexer": "ipython3",
   "version": "3.9.7"
  }
 },
 "nbformat": 4,
 "nbformat_minor": 5
}
